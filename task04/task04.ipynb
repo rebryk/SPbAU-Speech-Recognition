{
 "cells": [
  {
   "cell_type": "code",
   "execution_count": 1,
   "metadata": {},
   "outputs": [],
   "source": [
    "import torch\n",
    "import numpy as np\n",
    "import pandas as pd\n",
    "import torch.nn as nn\n",
    "import torch.optim as optim\n",
    "import torch.nn.functional as F\n",
    "import matplotlib.pyplot as plt\n",
    "\n",
    "from pathlib import Path\n",
    "from scipy import signal\n",
    "from scipy.io import wavfile\n",
    "from scipy.fftpack import fft\n",
    "from torch.autograd import Variable\n",
    "from sklearn.model_selection import train_test_split\n",
    "\n",
    "%matplotlib inline"
   ]
  },
  {
   "cell_type": "markdown",
   "metadata": {},
   "source": [
    "# Data processing"
   ]
  },
  {
   "cell_type": "code",
   "execution_count": 2,
   "metadata": {},
   "outputs": [],
   "source": [
    "L = 16000\n",
    "legal_labels = 'yes no up down left right on off stop go silence unknown'.split()\n",
    "train_data_path = Path('./train/audio')"
   ]
  },
  {
   "cell_type": "code",
   "execution_count": 3,
   "metadata": {},
   "outputs": [],
   "source": [
    "def unzip2(values):\n",
    "    a, b = zip(*values)\n",
    "    return list(a), list(b)\n",
    "\n",
    "\n",
    "def list_of_wavs(directory, ext='wav'):\n",
    "    return unzip2(path.parts[-2:] for path in directory.glob(f'*/*.{ext}'))"
   ]
  },
  {
   "cell_type": "code",
   "execution_count": 4,
   "metadata": {},
   "outputs": [],
   "source": [
    "def custom_fft(y, fs):\n",
    "    T = 1.0 / fs\n",
    "    N = y.shape[0]\n",
    "    yf = fft(y)\n",
    "    xf = np.linspace(0.0, 1.0 / (2.0 * T), N // 2)\n",
    "    vals = 2.0 / N * np.abs(yf[0 : N // 2])\n",
    "    return xf, vals\n",
    "\n",
    "\n",
    "def log_specgram(audio, sample_rate, window_size=20, step_size=10, eps=1e-10):\n",
    "    nperseg = int(round(window_size * sample_rate / 1e3))\n",
    "    noverlap = int(round(step_size * sample_rate / 1e3))\n",
    "    freqs, times, spec = signal.spectrogram(audio,\n",
    "                                            fs=sample_rate,\n",
    "                                            window='hann',\n",
    "                                            nperseg=nperseg,\n",
    "                                            noverlap=noverlap,\n",
    "                                            detrend=False)\n",
    "    \n",
    "    return freqs, times, np.log(spec.T.astype(np.float32) + eps)"
   ]
  },
  {
   "cell_type": "code",
   "execution_count": 5,
   "metadata": {},
   "outputs": [],
   "source": [
    "def pad_audio(samples):\n",
    "    if len(samples) >= L: \n",
    "        return samples\n",
    "    \n",
    "    return np.pad(samples, pad_width=(L - len(samples), 0), mode='constant', constant_values=(0, 0))\n",
    "\n",
    "    \n",
    "def chop_audio(samples, L=16000, num=20):\n",
    "    for i in range(num):\n",
    "        beg = np.random.randint(0, len(samples) - L)\n",
    "        yield samples[beg: beg + L]\n",
    "\n",
    "        \n",
    "def label_transform(labels):\n",
    "    nlabels = []\n",
    "    \n",
    "    for label in labels:\n",
    "        if label == '_background_noise_':\n",
    "            nlabels.append('silence')\n",
    "        elif label not in legal_labels:\n",
    "            nlabels.append('unknown')\n",
    "        else:\n",
    "            nlabels.append(label)\n",
    "            \n",
    "    return pd.get_dummies(pd.Series(nlabels))"
   ]
  },
  {
   "cell_type": "markdown",
   "metadata": {},
   "source": [
    "# Model"
   ]
  },
  {
   "cell_type": "code",
   "execution_count": 6,
   "metadata": {},
   "outputs": [],
   "source": [
    "dropout = nn.Dropout(p=0.30)\n",
    "\n",
    "\n",
    "class ConvRes(nn.Module):\n",
    "    def __init__(self, insize, outsize):\n",
    "        super(ConvRes, self).__init__()\n",
    "        \n",
    "        self.math = nn.Sequential(\n",
    "            nn.BatchNorm2d(insize),\n",
    "            torch.nn.Conv2d(insize, outsize, kernel_size=2, padding=2),\n",
    "            nn.PReLU(),\n",
    "        )\n",
    "\n",
    "    def forward(self, x):\n",
    "        return self.math(x)\n",
    "\n",
    "\n",
    "class ConvCNN(nn.Module):\n",
    "    def __init__(self, insize, outsize, kernel_size=7, padding=2, pool=2, avg=True):\n",
    "        super(ConvCNN, self).__init__()\n",
    "        self.avg = avg\n",
    "        self.math = torch.nn.Sequential(\n",
    "            torch.nn.Conv2d(insize, outsize, kernel_size=kernel_size, padding=padding),\n",
    "            torch.nn.BatchNorm2d(outsize),\n",
    "            torch.nn.LeakyReLU(),\n",
    "            torch.nn.MaxPool2d(pool, pool),\n",
    "        )\n",
    "        self.avgpool = torch.nn.AvgPool2d(pool, pool)\n",
    "\n",
    "    def forward(self, x):\n",
    "        x = self.math(x)\n",
    "        \n",
    "        if self.avg is True:\n",
    "            x = self.avgpool(x)\n",
    "            \n",
    "        return x\n",
    "\n",
    "\n",
    "class Net(nn.Module):\n",
    "    def __init__(self):\n",
    "        super(Net, self).__init__()\n",
    " \n",
    "        self.avgpool = nn.AdaptiveAvgPool2d(1)\n",
    "\n",
    "        self.cnn1 = ConvCNN(1, 32, kernel_size=7, pool=4, avg=False)\n",
    "        self.cnn2 = ConvCNN(32, 32, kernel_size=5, pool=2, avg=True)\n",
    "        self.cnn3 = ConvCNN(32, 32, kernel_size=5, pool=2, avg=True)\n",
    "\n",
    "        self.res1 = ConvRes(32, 64)\n",
    "\n",
    "        self.features = nn.Sequential(\n",
    "            self.cnn1, \n",
    "            dropout,\n",
    "            self.cnn2,\n",
    "            self.cnn3,\n",
    "            self.res1,\n",
    "        )\n",
    "\n",
    "        self.classifier = torch.nn.Sequential(\n",
    "            nn.Linear(1024, 12),\n",
    "        )\n",
    "        self.sig = nn.Sigmoid()\n",
    "  \n",
    "    def forward(self, x):\n",
    "        x = self.features(x)\n",
    "        x = x.view(x.size(0), -1)\n",
    "        x = self.classifier(x)\n",
    "        return x"
   ]
  },
  {
   "cell_type": "markdown",
   "metadata": {},
   "source": [
    "# Testing"
   ]
  },
  {
   "cell_type": "code",
   "execution_count": 7,
   "metadata": {},
   "outputs": [
    {
     "name": "stderr",
     "output_type": "stream",
     "text": [
      "/Users/rebryk/Projects/spbau/speech-env/lib/python3.6/site-packages/scipy/io/wavfile.py:273: WavFileWarning: Chunk (non-data) not understood, skipping it.\n",
      "  WavFileWarning)\n"
     ]
    }
   ],
   "source": [
    "labels, files = list_of_wavs(train_data_path)\n",
    "\n",
    "new_sample_rate = 8000\n",
    "X = []\n",
    "y = []\n",
    "\n",
    "for label, file in zip(labels, files):\n",
    "    sample_rate, samples = wavfile.read(train_data_path/label/file)\n",
    "    samples = pad_audio(samples)\n",
    "    \n",
    "    if len(samples) > 16000:\n",
    "        n_samples = chop_audio(samples)\n",
    "    else: \n",
    "        n_samples = [samples]\n",
    "        \n",
    "    for samples in n_samples:\n",
    "        resampled = signal.resample(samples, int(new_sample_rate / sample_rate * samples.shape[0]))\n",
    "        _, _, specgram = log_specgram(resampled, sample_rate=new_sample_rate)\n",
    "        X.append(specgram)\n",
    "        y.append(label)\n",
    "        \n",
    "        \n",
    "X = np.array(X)\n",
    "shape = list(X.shape)\n",
    "X = X.reshape([shape[0], 1, shape[1], shape[2]])\n",
    "y = label_transform(y)\n",
    "\n",
    "label_index = y.columns.values\n",
    "y = np.array(y.values, dtype=np.float32)"
   ]
  },
  {
   "cell_type": "code",
   "execution_count": 8,
   "metadata": {},
   "outputs": [],
   "source": [
    "X_train, X_valid, y_train, y_valid = train_test_split(X, y, test_size=0.1, random_state=42)"
   ]
  },
  {
   "cell_type": "code",
   "execution_count": 9,
   "metadata": {},
   "outputs": [],
   "source": [
    "X_train = X_train[:20_000]\n",
    "y_train = y_train[:20_000]"
   ]
  },
  {
   "cell_type": "code",
   "execution_count": 10,
   "metadata": {},
   "outputs": [],
   "source": [
    "LR = 0.005\n",
    "MOMENTUM = 0.9\n",
    "\n",
    "model = Net()\n",
    "loss_func = torch.nn.BCEWithLogitsLoss()\n",
    "optimizer = torch.optim.Adam(model.parameters(), lr=LR, weight_decay=5e-5) #  L2 regularization"
   ]
  },
  {
   "cell_type": "code",
   "execution_count": 11,
   "metadata": {},
   "outputs": [],
   "source": [
    "def chunks(X_train, y_train, size):\n",
    "    for i in range(0, len(X_train), size):\n",
    "        yield X_train[i : i + size], y_train[i : i + size]"
   ]
  },
  {
   "cell_type": "code",
   "execution_count": 12,
   "metadata": {},
   "outputs": [],
   "source": [
    "def train(epoch, X_train, y_train, batch_size=20):\n",
    "    n_total = len(X_train)\n",
    "    last_batch = (n_total + batch_size - 1) // batch_size\n",
    "    \n",
    "    loss_history = []\n",
    "    loss_batch_history = []\n",
    "\n",
    "    model.train()\n",
    "    \n",
    "    for batch_idx, (data, target) in enumerate(chunks(X_train, y_train, batch_size), 1):\n",
    "        data, target = torch.from_numpy(data), torch.from_numpy(target)\n",
    "        data, target = Variable(data), Variable(target)\n",
    "                 \n",
    "        optimizer.zero_grad()\n",
    "        preds = model(data)\n",
    "        loss = loss_func(preds, target)\n",
    "        loss.backward()\n",
    "        optimizer.step()\n",
    "        \n",
    "        loss_batch_history.append(loss.data[0])\n",
    "            \n",
    "        if batch_idx % 100 == 0 or batch_idx == last_batch:\n",
    "            loss_history.append(np.mean(loss_batch_history))\n",
    "            loss_batch_history = []\n",
    "            \n",
    "            n_samples = min(batch_idx * len(data), n_total)\n",
    "            progress = 100. * n_samples / n_total\n",
    "            print(f'Train Epoch: {epoch} [{n_samples}/{n_total} ({progress:.0f}%)]\\tLoss: {loss.data[0]:.6f}')\n",
    "    \n",
    "    return loss_history"
   ]
  },
  {
   "cell_type": "code",
   "execution_count": 13,
   "metadata": {},
   "outputs": [],
   "source": [
    "def valid(X_valid, y_valid, batch_size=20):\n",
    "    loss_history = []\n",
    "    \n",
    "    for batch_idx, (data, target) in enumerate(chunks(X_valid, y_valid, batch_size), 1):\n",
    "        data, target = torch.from_numpy(data), torch.from_numpy(target)\n",
    "        data, target = Variable(data), Variable(target)     \n",
    "        preds = model(data)\n",
    "        loss = loss_func(preds, target)\n",
    "        loss_history.append(loss.data[0])\n",
    "    \n",
    "    return np.mean(loss_history)"
   ]
  },
  {
   "cell_type": "code",
   "execution_count": 14,
   "metadata": {},
   "outputs": [
    {
     "name": "stdout",
     "output_type": "stream",
     "text": [
      "Epoch 1\n",
      "Train Epoch: 1 [2000/20000 (10%)]\tLoss: 0.170587\n",
      "Train Epoch: 1 [4000/20000 (20%)]\tLoss: 0.198712\n",
      "Train Epoch: 1 [6000/20000 (30%)]\tLoss: 0.200468\n",
      "Train Epoch: 1 [8000/20000 (40%)]\tLoss: 0.134355\n",
      "Train Epoch: 1 [10000/20000 (50%)]\tLoss: 0.211007\n",
      "Train Epoch: 1 [12000/20000 (60%)]\tLoss: 0.152107\n",
      "Train Epoch: 1 [14000/20000 (70%)]\tLoss: 0.114944\n",
      "Train Epoch: 1 [16000/20000 (80%)]\tLoss: 0.151797\n",
      "Train Epoch: 1 [18000/20000 (90%)]\tLoss: 0.080425\n",
      "Train Epoch: 1 [20000/20000 (100%)]\tLoss: 0.067550\n",
      "Epoch 2\n",
      "Train Epoch: 2 [2000/20000 (10%)]\tLoss: 0.101102\n",
      "Train Epoch: 2 [4000/20000 (20%)]\tLoss: 0.145506\n",
      "Train Epoch: 2 [6000/20000 (30%)]\tLoss: 0.142366\n",
      "Train Epoch: 2 [8000/20000 (40%)]\tLoss: 0.070246\n",
      "Train Epoch: 2 [10000/20000 (50%)]\tLoss: 0.098771\n",
      "Train Epoch: 2 [12000/20000 (60%)]\tLoss: 0.085083\n",
      "Train Epoch: 2 [14000/20000 (70%)]\tLoss: 0.098945\n",
      "Train Epoch: 2 [16000/20000 (80%)]\tLoss: 0.130326\n",
      "Train Epoch: 2 [18000/20000 (90%)]\tLoss: 0.078646\n",
      "Train Epoch: 2 [20000/20000 (100%)]\tLoss: 0.082690\n",
      "Epoch 3\n",
      "Train Epoch: 3 [2000/20000 (10%)]\tLoss: 0.098735\n",
      "Train Epoch: 3 [4000/20000 (20%)]\tLoss: 0.112751\n",
      "Train Epoch: 3 [6000/20000 (30%)]\tLoss: 0.150209\n",
      "Train Epoch: 3 [8000/20000 (40%)]\tLoss: 0.090446\n",
      "Train Epoch: 3 [10000/20000 (50%)]\tLoss: 0.107159\n",
      "Train Epoch: 3 [12000/20000 (60%)]\tLoss: 0.118410\n",
      "Train Epoch: 3 [14000/20000 (70%)]\tLoss: 0.053946\n",
      "Train Epoch: 3 [16000/20000 (80%)]\tLoss: 0.111855\n",
      "Train Epoch: 3 [18000/20000 (90%)]\tLoss: 0.059372\n",
      "Train Epoch: 3 [20000/20000 (100%)]\tLoss: 0.075697\n",
      "Epoch 4\n",
      "Train Epoch: 4 [2000/20000 (10%)]\tLoss: 0.081775\n",
      "Train Epoch: 4 [4000/20000 (20%)]\tLoss: 0.105738\n",
      "Train Epoch: 4 [6000/20000 (30%)]\tLoss: 0.128368\n",
      "Train Epoch: 4 [8000/20000 (40%)]\tLoss: 0.055379\n",
      "Train Epoch: 4 [10000/20000 (50%)]\tLoss: 0.046105\n",
      "Train Epoch: 4 [12000/20000 (60%)]\tLoss: 0.091813\n",
      "Train Epoch: 4 [14000/20000 (70%)]\tLoss: 0.058813\n",
      "Train Epoch: 4 [16000/20000 (80%)]\tLoss: 0.094543\n",
      "Train Epoch: 4 [18000/20000 (90%)]\tLoss: 0.053832\n",
      "Train Epoch: 4 [20000/20000 (100%)]\tLoss: 0.053487\n",
      "CPU times: user 11min 41s, sys: 1min 48s, total: 13min 30s\n",
      "Wall time: 11min 15s\n"
     ]
    },
    {
     "data": {
      "image/png": "[encoded data removed]",
      "text/plain": [
       "<Figure size 432x288 with 1 Axes>"
      ]
     },
     "metadata": {},
     "output_type": "display_data"
    }
   ],
   "source": [
    "%%time\n",
    "\n",
    "loss_history = []\n",
    "\n",
    "for epoch in range(1, 5):\n",
    "    print(\"Epoch %d\" % epoch)\n",
    "    loss_history += train(epoch, X_train, y_train)\n",
    "    \n",
    "plt.plot(loss_history);"
   ]
  },
  {
   "cell_type": "code",
   "execution_count": 15,
   "metadata": {},
   "outputs": [
    {
     "name": "stdout",
     "output_type": "stream",
     "text": [
      "CPU times: user 25.4 s, sys: 4.54 s, total: 30 s\n",
      "Wall time: 24.7 s\n"
     ]
    },
    {
     "data": {
      "text/plain": [
       "0.066756368462856"
      ]
     },
     "execution_count": 15,
     "metadata": {},
     "output_type": "execute_result"
    }
   ],
   "source": [
    "%%time\n",
    "valid(X_valid, y_valid)"
   ]
  }
 ],
 "metadata": {
  "kernelspec": {
   "display_name": "Python 3",
   "language": "python",
   "name": "python3"
  },
  "language_info": {
   "codemirror_mode": {
    "name": "ipython",
    "version": 3
   },
   "file_extension": ".py",
   "mimetype": "text/x-python",
   "name": "python",
   "nbconvert_exporter": "python",
   "pygments_lexer": "ipython3",
   "version": "3.6.4"
  }
 },
 "nbformat": 4,
 "nbformat_minor": 2
}
