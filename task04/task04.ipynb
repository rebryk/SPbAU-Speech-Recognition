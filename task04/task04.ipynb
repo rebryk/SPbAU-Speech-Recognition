{
 "cells": [
  {
   "cell_type": "code",
   "execution_count": 1,
   "metadata": {},
   "outputs": [],
   "source": [
    "import torch\n",
    "import numpy as np\n",
    "import pandas as pd\n",
    "import torch.nn as nn\n",
    "import torch.optim as optim\n",
    "import torch.nn.functional as F\n",
    "import matplotlib.pyplot as plt\n",
    "\n",
    "from pathlib import Path\n",
    "from scipy import signal\n",
    "from scipy.io import wavfile\n",
    "from scipy.fftpack import fft\n",
    "from torch.autograd import Variable\n",
    "from sklearn.metrics import precision_score\n",
    "from torchvision import transforms, datasets\n",
    "from torch.utils.data import Dataset, DataLoader\n",
    "from sklearn.model_selection import train_test_split\n",
    "\n",
    "import warnings\n",
    "warnings.filterwarnings(\"ignore\")\n",
    "\n",
    "%matplotlib inline"
   ]
  },
  {
   "cell_type": "markdown",
   "metadata": {},
   "source": [
    "# Data processing"
   ]
  },
  {
   "cell_type": "code",
   "execution_count": 2,
   "metadata": {},
   "outputs": [],
   "source": [
    "legal_labels = 'yes no up down left right on off stop go silence unknown'.split()\n",
    "train_data_path = Path('./train/audio')\n",
    "valid_subset_path = Path('./train/validation_list.txt')"
   ]
  },
  {
   "cell_type": "code",
   "execution_count": 3,
   "metadata": {},
   "outputs": [],
   "source": [
    "def unzip2(values):\n",
    "    a, b = zip(*values)\n",
    "    return list(a), list(b)"
   ]
  },
  {
   "cell_type": "code",
   "execution_count": 4,
   "metadata": {},
   "outputs": [],
   "source": [
    "class SoundDataset(Dataset):\n",
    "    def __init__(self, directory, subset_path=None, transform=None):\n",
    "        self.directory = directory\n",
    "        self.transform = transform\n",
    "        self._subset = self._load_subset(subset_path) if subset_path else None\n",
    "        self._labels, self._sounds = self._list_of_wavs(directory)\n",
    "        self._transformed_labels = self._transform_labels(self._labels)\n",
    "    \n",
    "    def __len__(self):\n",
    "        return len(self._labels)\n",
    "    \n",
    "    def __getitem__(self, idx):\n",
    "        label, sound = self._labels[idx], self._sounds[idx]\n",
    "        sample_rate, samples = wavfile.read(self.directory/label/sound)\n",
    "        label = self._transformed_labels[idx]\n",
    "        sample = {'sample_rate': sample_rate, 'samples': samples, 'label': label}\n",
    "        \n",
    "        if self.transform is not None:\n",
    "            sample = self.transform(sample)\n",
    "            \n",
    "        return sample\n",
    "    \n",
    "    def _is_needed(self, name):\n",
    "        return (name in self._subset) if self._subset is not None else True\n",
    "    \n",
    "    def _list_of_wavs(self, directory, ext='wav'):\n",
    "        return unzip2(path.parts[-2:] for path in directory.glob(f'*/*.{ext}') if self._is_needed(path.parts[-1]))\n",
    "    \n",
    "    @staticmethod\n",
    "    def _load_subset(file):\n",
    "        return set(path.split('/')[1] for path in file.read_text().split('\\n'))\n",
    "    \n",
    "    @staticmethod\n",
    "    def _transform_labels(labels):\n",
    "        nlabels = []\n",
    "\n",
    "        for label in labels:\n",
    "            if label == '_background_noise_':\n",
    "                nlabels.append('silence')\n",
    "            elif label not in legal_labels:\n",
    "                nlabels.append('unknown')\n",
    "            else:\n",
    "                nlabels.append(label)\n",
    "\n",
    "        return np.array(pd.get_dummies(pd.Series(nlabels)), dtype=np.float32)"
   ]
  },
  {
   "cell_type": "code",
   "execution_count": 5,
   "metadata": {},
   "outputs": [],
   "source": [
    "class RandomChop:\n",
    "    def __init__(self, length=16_000):\n",
    "        self.length = length\n",
    "    \n",
    "    def __call__(self, sample):\n",
    "        sample_rate, samples, label = sample['sample_rate'], sample['samples'], sample['label']\n",
    "        samples = self._pad_audio(samples)\n",
    "        \n",
    "        if len(samples) > self.length:\n",
    "            samples = self._chop_audio(samples)\n",
    "        \n",
    "        return {'sample_rate': sample_rate, 'samples': samples, 'label': label}\n",
    "            \n",
    "    def _pad_audio(self, samples):\n",
    "        if len(samples) >= self.length: \n",
    "            return samples\n",
    "\n",
    "        return np.pad(samples, pad_width=(self.length - len(samples), 0), mode='constant', constant_values=(0, 0))\n",
    "\n",
    "    def _chop_audio(self, samples):\n",
    "        start = np.random.randint(0, len(samples) - self.length)\n",
    "        return samples[start : start + self.length]"
   ]
  },
  {
   "cell_type": "code",
   "execution_count": 6,
   "metadata": {},
   "outputs": [],
   "source": [
    "class Specgram:\n",
    "    def __init__(self, sample_rate=8_000):\n",
    "        self.sample_rate = sample_rate\n",
    "        \n",
    "    def __call__(self, sample):\n",
    "        sample_rate, samples, label = sample['sample_rate'], sample['samples'], sample['label']\n",
    "        resampled = signal.resample(samples, int(self.sample_rate / sample_rate * samples.shape[0]))\n",
    "        _, _, specgram = self._log_specgram(resampled, sample_rate=self.sample_rate)\n",
    "        specgram = specgram.reshape(1, specgram.shape[0], specgram.shape[1])\n",
    "        return {'samples': specgram, 'label': label}\n",
    "        \n",
    "    @staticmethod\n",
    "    def _log_specgram(audio, sample_rate, window_size=20, step_size=10, eps=1e-10):\n",
    "        nperseg = int(round(window_size * sample_rate / 1e3))\n",
    "        noverlap = int(round(step_size * sample_rate / 1e3))\n",
    "        freqs, times, spec = signal.spectrogram(audio,\n",
    "                                                fs=sample_rate,\n",
    "                                                window='hann',\n",
    "                                                nperseg=nperseg,\n",
    "                                                noverlap=noverlap,\n",
    "                                                detrend=False)\n",
    "\n",
    "        return freqs, times, np.log(spec.T.astype(np.float32) + eps)"
   ]
  },
  {
   "cell_type": "code",
   "execution_count": 7,
   "metadata": {},
   "outputs": [],
   "source": [
    "class ToTensor:\n",
    "    def __call__(self, sample):\n",
    "        samples, label = sample['samples'], sample['label']\n",
    "        return {'samples': torch.from_numpy(samples), 'label': torch.from_numpy(label)}"
   ]
  },
  {
   "cell_type": "code",
   "execution_count": 8,
   "metadata": {},
   "outputs": [],
   "source": [
    "data_transform = transforms.Compose([RandomChop(), Specgram(), ToTensor()])\n",
    "train_dataset = SoundDataset(train_data_path, transform=data_transform)\n",
    "valid_dataset = SoundDataset(train_data_path, valid_subset_path, transform=data_transform)"
   ]
  },
  {
   "cell_type": "code",
   "execution_count": 9,
   "metadata": {},
   "outputs": [],
   "source": [
    "train_dataloader = torch.utils.data.DataLoader(train_dataset, batch_size=32, shuffle=True, num_workers=4)\n",
    "valid_dataloader = torch.utils.data.DataLoader(valid_dataset, batch_size=32, shuffle=True, num_workers=4)"
   ]
  },
  {
   "cell_type": "markdown",
   "metadata": {},
   "source": [
    "# Model"
   ]
  },
  {
   "cell_type": "code",
   "execution_count": 10,
   "metadata": {},
   "outputs": [],
   "source": [
    "dropout = nn.Dropout(p=0.30)\n",
    "\n",
    "\n",
    "class ConvRes(nn.Module):\n",
    "    def __init__(self, insize, outsize):\n",
    "        super(ConvRes, self).__init__()\n",
    "        \n",
    "        self.math = nn.Sequential(\n",
    "            nn.BatchNorm2d(insize),\n",
    "            torch.nn.Conv2d(insize, outsize, kernel_size=2, padding=2),\n",
    "            nn.PReLU(),\n",
    "        )\n",
    "\n",
    "    def forward(self, x):\n",
    "        return self.math(x)\n",
    "\n",
    "\n",
    "class ConvCNN(nn.Module):\n",
    "    def __init__(self, insize, outsize, kernel_size=7, padding=2, pool=2, avg=True):\n",
    "        super(ConvCNN, self).__init__()\n",
    "        self.avg = avg\n",
    "        self.math = torch.nn.Sequential(\n",
    "            torch.nn.Conv2d(insize, outsize, kernel_size=kernel_size, padding=padding),\n",
    "            torch.nn.BatchNorm2d(outsize),\n",
    "            torch.nn.LeakyReLU(),\n",
    "            torch.nn.MaxPool2d(pool, pool),\n",
    "        )\n",
    "        self.avgpool = torch.nn.AvgPool2d(pool, pool)\n",
    "\n",
    "    def forward(self, x):\n",
    "        x = self.math(x)\n",
    "        \n",
    "        if self.avg is True:\n",
    "            x = self.avgpool(x)\n",
    "            \n",
    "        return x\n",
    "\n",
    "\n",
    "class Net(nn.Module):\n",
    "    def __init__(self):\n",
    "        super(Net, self).__init__()\n",
    " \n",
    "        self.avgpool = nn.AdaptiveAvgPool2d(1)\n",
    "\n",
    "        self.cnn1 = ConvCNN(1, 32, kernel_size=7, pool=4, avg=False)\n",
    "        self.cnn2 = ConvCNN(32, 32, kernel_size=5, pool=2, avg=True)\n",
    "        self.cnn3 = ConvCNN(32, 32, kernel_size=5, pool=2, avg=True)\n",
    "\n",
    "        self.res1 = ConvRes(32, 64)\n",
    "\n",
    "        self.features = nn.Sequential(\n",
    "            self.cnn1, \n",
    "            dropout,\n",
    "            self.cnn2,\n",
    "            self.cnn3,\n",
    "            self.res1,\n",
    "        )\n",
    "\n",
    "        self.classifier = torch.nn.Sequential(\n",
    "            nn.Linear(1024, 12),\n",
    "        )\n",
    "        self.sig = nn.Sigmoid()\n",
    "  \n",
    "    def forward(self, x):\n",
    "        x = self.features(x)\n",
    "        x = x.view(x.size(0), -1)\n",
    "        x = self.classifier(x)\n",
    "        return x"
   ]
  },
  {
   "cell_type": "markdown",
   "metadata": {},
   "source": [
    "# Testing"
   ]
  },
  {
   "cell_type": "code",
   "execution_count": 11,
   "metadata": {},
   "outputs": [],
   "source": [
    "LR = 0.005\n",
    "MOMENTUM = 0.9\n",
    "\n",
    "model = Net()\n",
    "loss_func = torch.nn.BCEWithLogitsLoss()\n",
    "optimizer = torch.optim.Adam(model.parameters(), lr=LR, weight_decay=5e-5) #  L2 regularization"
   ]
  },
  {
   "cell_type": "code",
   "execution_count": 12,
   "metadata": {},
   "outputs": [],
   "source": [
    "def train(epoch, dataloader, log_steps=250):\n",
    "    n_total = dataloader.batch_size * len(dataloader)\n",
    "    last_batch = len(dataloader)\n",
    "    \n",
    "    loss_history = []\n",
    "    loss_batch_history = []\n",
    "\n",
    "    model.train()\n",
    "    \n",
    "    for batch_idx, batch in enumerate(dataloader, 1):\n",
    "        data, target = Variable(batch['samples']), Variable(batch['label'])\n",
    "                 \n",
    "        optimizer.zero_grad()\n",
    "        preds = model(data)\n",
    "        loss = loss_func(preds, target)\n",
    "        loss.backward()\n",
    "        optimizer.step()\n",
    "        \n",
    "        loss_batch_history.append(loss.data[0])\n",
    "            \n",
    "        if batch_idx % log_steps == 0 or batch_idx == last_batch:\n",
    "            loss_history.append(np.mean(loss_batch_history))\n",
    "            loss_batch_history = []\n",
    "            \n",
    "            n_samples = min(batch_idx * dataloader.batch_size, n_total)\n",
    "            progress = 100. * n_samples / n_total\n",
    "            print(f'Train Epoch: {epoch} [{n_samples}/{n_total} ({progress:.0f}%)]\\tLoss: {loss.data[0]:.6f}')\n",
    "    \n",
    "    return loss_history"
   ]
  },
  {
   "cell_type": "code",
   "execution_count": 13,
   "metadata": {},
   "outputs": [
    {
     "name": "stdout",
     "output_type": "stream",
     "text": [
      "Epoch 1\n",
      "Train Epoch: 1 [8000/64736 (12%)]\tLoss: 0.118003\n",
      "Train Epoch: 1 [16000/64736 (25%)]\tLoss: 0.097058\n",
      "Train Epoch: 1 [24000/64736 (37%)]\tLoss: 0.084505\n",
      "Train Epoch: 1 [32000/64736 (49%)]\tLoss: 0.044929\n",
      "Train Epoch: 1 [40000/64736 (62%)]\tLoss: 0.086806\n",
      "Train Epoch: 1 [48000/64736 (74%)]\tLoss: 0.030243\n",
      "Train Epoch: 1 [56000/64736 (87%)]\tLoss: 0.105790\n",
      "Train Epoch: 1 [64000/64736 (99%)]\tLoss: 0.046144\n",
      "Train Epoch: 1 [64736/64736 (100%)]\tLoss: 0.073868\n",
      "Epoch 2\n",
      "Train Epoch: 2 [8000/64736 (12%)]\tLoss: 0.049021\n",
      "Train Epoch: 2 [16000/64736 (25%)]\tLoss: 0.085625\n",
      "Train Epoch: 2 [24000/64736 (37%)]\tLoss: 0.036965\n",
      "Train Epoch: 2 [32000/64736 (49%)]\tLoss: 0.041786\n",
      "Train Epoch: 2 [40000/64736 (62%)]\tLoss: 0.035610\n",
      "Train Epoch: 2 [48000/64736 (74%)]\tLoss: 0.061512\n",
      "Train Epoch: 2 [56000/64736 (87%)]\tLoss: 0.049652\n",
      "Train Epoch: 2 [64000/64736 (99%)]\tLoss: 0.074203\n",
      "Train Epoch: 2 [64736/64736 (100%)]\tLoss: 0.036081\n",
      "Epoch 3\n",
      "Train Epoch: 3 [8000/64736 (12%)]\tLoss: 0.074172\n",
      "Train Epoch: 3 [16000/64736 (25%)]\tLoss: 0.023396\n",
      "Train Epoch: 3 [24000/64736 (37%)]\tLoss: 0.064404\n",
      "Train Epoch: 3 [32000/64736 (49%)]\tLoss: 0.067335\n",
      "Train Epoch: 3 [40000/64736 (62%)]\tLoss: 0.054642\n",
      "Train Epoch: 3 [48000/64736 (74%)]\tLoss: 0.059723\n",
      "Train Epoch: 3 [56000/64736 (87%)]\tLoss: 0.036466\n",
      "Train Epoch: 3 [64000/64736 (99%)]\tLoss: 0.021839\n",
      "Train Epoch: 3 [64736/64736 (100%)]\tLoss: 0.064098\n",
      "Epoch 4\n",
      "Train Epoch: 4 [8000/64736 (12%)]\tLoss: 0.022153\n",
      "Train Epoch: 4 [16000/64736 (25%)]\tLoss: 0.030509\n",
      "Train Epoch: 4 [24000/64736 (37%)]\tLoss: 0.051325\n",
      "Train Epoch: 4 [32000/64736 (49%)]\tLoss: 0.075605\n",
      "Train Epoch: 4 [40000/64736 (62%)]\tLoss: 0.058131\n",
      "Train Epoch: 4 [48000/64736 (74%)]\tLoss: 0.021657\n",
      "Train Epoch: 4 [56000/64736 (87%)]\tLoss: 0.024090\n",
      "Train Epoch: 4 [64000/64736 (99%)]\tLoss: 0.087801\n",
      "Train Epoch: 4 [64736/64736 (100%)]\tLoss: 0.050098\n",
      "CPU times: user 1h 7min 23s, sys: 8min 24s, total: 1h 15min 47s\n",
      "Wall time: 56min 4s\n"
     ]
    },
    {
     "data": {
      "image/png": "[encoded data removed]",
      "text/plain": [
       "<Figure size 432x288 with 1 Axes>"
      ]
     },
     "metadata": {},
     "output_type": "display_data"
    }
   ],
   "source": [
    "%%time\n",
    "\n",
    "loss_history = []\n",
    "\n",
    "for epoch in range(1, 5):\n",
    "    print(\"Epoch %d\" % epoch)\n",
    "    loss_history += train(epoch, train_dataloader)\n",
    "    \n",
    "plt.plot(loss_history);"
   ]
  },
  {
   "cell_type": "code",
   "execution_count": 19,
   "metadata": {},
   "outputs": [],
   "source": [
    "def evaluate(dataloader):\n",
    "    y_true = np.zeros(0)\n",
    "    y_pred = np.zeros(0)\n",
    "    \n",
    "    for batch_idx, batch in enumerate(dataloader, 1):\n",
    "        data, target = Variable(batch['samples']), batch['label'].numpy()     \n",
    "        y_true = np.concatenate((y_true, np.argmax(target, axis=1)))\n",
    "        y_pred = np.concatenate((y_pred, np.argmax(model(data).data.numpy(), axis=1)))\n",
    "    \n",
    "    return y_true, y_pred"
   ]
  },
  {
   "cell_type": "code",
   "execution_count": 20,
   "metadata": {},
   "outputs": [],
   "source": [
    "y_true, y_pred = evaluate(valid_dataloader)"
   ]
  },
  {
   "cell_type": "code",
   "execution_count": 28,
   "metadata": {},
   "outputs": [
    {
     "name": "stdout",
     "output_type": "stream",
     "text": [
      "Precision:  0.520\n"
     ]
    }
   ],
   "source": [
    "precision = precision_score(y_true, y_pred, average='macro')\n",
    "print(f'Precision: {precision: 0.3f}')"
   ]
  }
 ],
 "metadata": {
  "kernelspec": {
   "display_name": "Python 3",
   "language": "python",
   "name": "python3"
  },
  "language_info": {
   "codemirror_mode": {
    "name": "ipython",
    "version": 3
   },
   "file_extension": ".py",
   "mimetype": "text/x-python",
   "name": "python",
   "nbconvert_exporter": "python",
   "pygments_lexer": "ipython3",
   "version": "3.6.4"
  }
 },
 "nbformat": 4,
 "nbformat_minor": 2
}
